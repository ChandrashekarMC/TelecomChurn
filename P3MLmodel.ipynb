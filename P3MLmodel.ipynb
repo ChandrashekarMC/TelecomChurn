{
 "cells": [
  {
   "cell_type": "markdown",
   "metadata": {},
   "source": [
    "## Summary of this notebook"
   ]
  },
  {
   "cell_type": "markdown",
   "metadata": {},
   "source": [
    "**Feature Engineering:**  \n",
    "Following features/predictors are doesn't seem to influence churn, hence will be dropped.  \n",
    "* State : There are more than 20 states and churn in each state is almost equal to average churn rate, hence not useful.  \n",
    "* Phone : The phone number is a unique number and will not affect the churn rate  \n",
    "* Area code : This feature also will not affect churn  \n",
    "* Day Charge is a function of Day Calls and Day Mins, hence dropping 'Day Charge'   \n",
    "* Also dropping 'Eve Charge', 'Night Charge' and 'International Charge' for similar reason   \n"
   ]
  },
  {
   "cell_type": "markdown",
   "metadata": {},
   "source": [
    "#### Establishing baseline scores using Naive Baye's Classifiers\n",
    "Base line score is around 85% - Using Naive Baye's ML\n",
    "\n",
    "#### Using Random Forest ML - Using cross validation, without hyper parameter tuning\n",
    "RF accuracy is around 95%, 10 percentage points better than Naive Baye's\n",
    "\n",
    "#### Using XGBoost, with learning_rate = 0.1, no_of_estimators=200, focusing on 'recall'\n",
    "With XGBoost, with given parameters, the accuracy improved by 1%, to 96%\n",
    "\n",
    "#### Hyper Parameter tuning, on RF based model. Using RandomSearchCV for best parameters\n",
    "Hyper Parameter tuned RF resulted in 96.1% accuracy, marginal improvement over XGBoost"
   ]
  },
  {
   "cell_type": "markdown",
   "metadata": {},
   "source": [
    "**Further scope of analysis:**   \n",
    "These classification models assume threshold of 0.5 to classify the outcome.  \n",
    "It is ok to mis classify a satisfied customer as unsatisfied customer, but not vice versa.  \n",
    "This is called recall in ML jargon.  \n",
    "To achieve good recall, we need to re assess our model by chaning classification threshold to values other than 0.5.  \n",
    "It is also noted that as recall improves, the accuracy of the model decreases.  \n",
    "We need to comeup with right threshold for which accuracy and recall are tolerable.  \n",
    "The ML trained object, say model.predict() returns the prediction for the given data with 0.5 as threshold.  \n",
    "We can use model.predict_proba() to know the probability of prediction being class_1 or class_0.  "
   ]
  },
  {
   "cell_type": "code",
   "execution_count": 1,
   "metadata": {},
   "outputs": [],
   "source": [
    "import numpy as np\n",
    "import pandas as pd"
   ]
  },
  {
   "cell_type": "code",
   "execution_count": 2,
   "metadata": {},
   "outputs": [],
   "source": [
    "df = pd.read_excel('TelecomChurnColumnsRenamed.xls', index_col='Unnamed: 0')"
   ]
  },
  {
   "cell_type": "code",
   "execution_count": 3,
   "metadata": {},
   "outputs": [
    {
     "data": {
      "text/plain": [
       "(4617, 21)"
      ]
     },
     "execution_count": 3,
     "metadata": {},
     "output_type": "execute_result"
    }
   ],
   "source": [
    "df.shape"
   ]
  },
  {
   "cell_type": "code",
   "execution_count": 4,
   "metadata": {},
   "outputs": [
    {
     "data": {
      "text/html": [
       "<div>\n",
       "<style scoped>\n",
       "    .dataframe tbody tr th:only-of-type {\n",
       "        vertical-align: middle;\n",
       "    }\n",
       "\n",
       "    .dataframe tbody tr th {\n",
       "        vertical-align: top;\n",
       "    }\n",
       "\n",
       "    .dataframe thead th {\n",
       "        text-align: right;\n",
       "    }\n",
       "</style>\n",
       "<table border=\"1\" class=\"dataframe\">\n",
       "  <thead>\n",
       "    <tr style=\"text-align: right;\">\n",
       "      <th></th>\n",
       "      <th>State</th>\n",
       "      <th>Account Length</th>\n",
       "      <th>Area Code</th>\n",
       "      <th>Phone</th>\n",
       "      <th>International Plan</th>\n",
       "      <th>VMail Plan</th>\n",
       "      <th>VMail Message</th>\n",
       "      <th>Day Mins</th>\n",
       "      <th>Day Calls</th>\n",
       "      <th>Day Charge</th>\n",
       "      <th>...</th>\n",
       "      <th>Eve Calls</th>\n",
       "      <th>Eve Charge</th>\n",
       "      <th>Night Mins</th>\n",
       "      <th>Night Calls</th>\n",
       "      <th>Night Charge</th>\n",
       "      <th>International Mins</th>\n",
       "      <th>International Calls</th>\n",
       "      <th>International Charge</th>\n",
       "      <th>CustServ Calls</th>\n",
       "      <th>Churn</th>\n",
       "    </tr>\n",
       "  </thead>\n",
       "  <tbody>\n",
       "    <tr>\n",
       "      <th>0</th>\n",
       "      <td>KS</td>\n",
       "      <td>128</td>\n",
       "      <td>415</td>\n",
       "      <td>382-4657</td>\n",
       "      <td>no</td>\n",
       "      <td>yes</td>\n",
       "      <td>25</td>\n",
       "      <td>265.1</td>\n",
       "      <td>110</td>\n",
       "      <td>45.07</td>\n",
       "      <td>...</td>\n",
       "      <td>99</td>\n",
       "      <td>16.78</td>\n",
       "      <td>244.7</td>\n",
       "      <td>91</td>\n",
       "      <td>11.01</td>\n",
       "      <td>10.0</td>\n",
       "      <td>3</td>\n",
       "      <td>2.7</td>\n",
       "      <td>1</td>\n",
       "      <td>False.</td>\n",
       "    </tr>\n",
       "    <tr>\n",
       "      <th>1</th>\n",
       "      <td>OH</td>\n",
       "      <td>107</td>\n",
       "      <td>415</td>\n",
       "      <td>371-7191</td>\n",
       "      <td>no</td>\n",
       "      <td>yes</td>\n",
       "      <td>26</td>\n",
       "      <td>161.6</td>\n",
       "      <td>123</td>\n",
       "      <td>27.47</td>\n",
       "      <td>...</td>\n",
       "      <td>103</td>\n",
       "      <td>16.62</td>\n",
       "      <td>254.4</td>\n",
       "      <td>103</td>\n",
       "      <td>11.45</td>\n",
       "      <td>13.7</td>\n",
       "      <td>3</td>\n",
       "      <td>3.7</td>\n",
       "      <td>1</td>\n",
       "      <td>False.</td>\n",
       "    </tr>\n",
       "  </tbody>\n",
       "</table>\n",
       "<p>2 rows × 21 columns</p>\n",
       "</div>"
      ],
      "text/plain": [
       "  State  Account Length  Area Code      Phone International Plan VMail Plan  \\\n",
       "0    KS             128        415   382-4657                 no        yes   \n",
       "1    OH             107        415   371-7191                 no        yes   \n",
       "\n",
       "   VMail Message  Day Mins  Day Calls  Day Charge  ...  Eve Calls  Eve Charge  \\\n",
       "0             25     265.1        110       45.07  ...         99       16.78   \n",
       "1             26     161.6        123       27.47  ...        103       16.62   \n",
       "\n",
       "   Night Mins  Night Calls  Night Charge  International Mins  \\\n",
       "0       244.7           91         11.01                10.0   \n",
       "1       254.4          103         11.45                13.7   \n",
       "\n",
       "   International Calls  International Charge  CustServ Calls    Churn  \n",
       "0                    3                   2.7               1   False.  \n",
       "1                    3                   3.7               1   False.  \n",
       "\n",
       "[2 rows x 21 columns]"
      ]
     },
     "execution_count": 4,
     "metadata": {},
     "output_type": "execute_result"
    }
   ],
   "source": [
    "df.head(2)"
   ]
  },
  {
   "cell_type": "code",
   "execution_count": 5,
   "metadata": {},
   "outputs": [
    {
     "name": "stdout",
     "output_type": "stream",
     "text": [
      "['State', 'Area Code', 'Phone', 'International Plan', 'VMail Plan', 'Churn']\n"
     ]
    }
   ],
   "source": [
    "cat_columns = df.select_dtypes(include=['object']).columns.tolist()\n",
    "\n",
    "for col in cat_columns:\n",
    "    df[col] = df[col].str.strip()\n",
    "    df[col] = df[col].astype('category') \n",
    "\n",
    "#Changin 'Area Code' column as 'category' type\n",
    "df['Area Code'] = df['Area Code'].astype('category') \n",
    "\n",
    "#Updated cat_columns\n",
    "cat_columns = df.select_dtypes(include=['category']).columns.tolist()\n",
    "print(cat_columns)"
   ]
  },
  {
   "cell_type": "markdown",
   "metadata": {},
   "source": [
    "#### Defining Target variable"
   ]
  },
  {
   "cell_type": "code",
   "execution_count": 6,
   "metadata": {},
   "outputs": [],
   "source": [
    "df['CHURN-FLAG'] = df.Churn.apply(lambda x: int(1) if x == 'True.' else int(0))"
   ]
  },
  {
   "cell_type": "code",
   "execution_count": 7,
   "metadata": {},
   "outputs": [
    {
     "name": "stdout",
     "output_type": "stream",
     "text": [
      "(4617, 22)\n"
     ]
    },
    {
     "data": {
      "text/html": [
       "<div>\n",
       "<style scoped>\n",
       "    .dataframe tbody tr th:only-of-type {\n",
       "        vertical-align: middle;\n",
       "    }\n",
       "\n",
       "    .dataframe tbody tr th {\n",
       "        vertical-align: top;\n",
       "    }\n",
       "\n",
       "    .dataframe thead th {\n",
       "        text-align: right;\n",
       "    }\n",
       "</style>\n",
       "<table border=\"1\" class=\"dataframe\">\n",
       "  <thead>\n",
       "    <tr style=\"text-align: right;\">\n",
       "      <th></th>\n",
       "      <th>State</th>\n",
       "      <th>Account Length</th>\n",
       "      <th>Area Code</th>\n",
       "      <th>Phone</th>\n",
       "      <th>International Plan</th>\n",
       "      <th>VMail Plan</th>\n",
       "      <th>VMail Message</th>\n",
       "      <th>Day Mins</th>\n",
       "      <th>Day Calls</th>\n",
       "      <th>Day Charge</th>\n",
       "      <th>...</th>\n",
       "      <th>Eve Charge</th>\n",
       "      <th>Night Mins</th>\n",
       "      <th>Night Calls</th>\n",
       "      <th>Night Charge</th>\n",
       "      <th>International Mins</th>\n",
       "      <th>International Calls</th>\n",
       "      <th>International Charge</th>\n",
       "      <th>CustServ Calls</th>\n",
       "      <th>Churn</th>\n",
       "      <th>CHURN-FLAG</th>\n",
       "    </tr>\n",
       "  </thead>\n",
       "  <tbody>\n",
       "    <tr>\n",
       "      <th>0</th>\n",
       "      <td>KS</td>\n",
       "      <td>128</td>\n",
       "      <td>415</td>\n",
       "      <td>382-4657</td>\n",
       "      <td>no</td>\n",
       "      <td>yes</td>\n",
       "      <td>25</td>\n",
       "      <td>265.1</td>\n",
       "      <td>110</td>\n",
       "      <td>45.07</td>\n",
       "      <td>...</td>\n",
       "      <td>16.78</td>\n",
       "      <td>244.7</td>\n",
       "      <td>91</td>\n",
       "      <td>11.01</td>\n",
       "      <td>10.0</td>\n",
       "      <td>3</td>\n",
       "      <td>2.7</td>\n",
       "      <td>1</td>\n",
       "      <td>False.</td>\n",
       "      <td>0</td>\n",
       "    </tr>\n",
       "    <tr>\n",
       "      <th>1</th>\n",
       "      <td>OH</td>\n",
       "      <td>107</td>\n",
       "      <td>415</td>\n",
       "      <td>371-7191</td>\n",
       "      <td>no</td>\n",
       "      <td>yes</td>\n",
       "      <td>26</td>\n",
       "      <td>161.6</td>\n",
       "      <td>123</td>\n",
       "      <td>27.47</td>\n",
       "      <td>...</td>\n",
       "      <td>16.62</td>\n",
       "      <td>254.4</td>\n",
       "      <td>103</td>\n",
       "      <td>11.45</td>\n",
       "      <td>13.7</td>\n",
       "      <td>3</td>\n",
       "      <td>3.7</td>\n",
       "      <td>1</td>\n",
       "      <td>False.</td>\n",
       "      <td>0</td>\n",
       "    </tr>\n",
       "  </tbody>\n",
       "</table>\n",
       "<p>2 rows × 22 columns</p>\n",
       "</div>"
      ],
      "text/plain": [
       "  State  Account Length Area Code     Phone International Plan VMail Plan  \\\n",
       "0    KS             128       415  382-4657                 no        yes   \n",
       "1    OH             107       415  371-7191                 no        yes   \n",
       "\n",
       "   VMail Message  Day Mins  Day Calls  Day Charge  ...  Eve Charge  \\\n",
       "0             25     265.1        110       45.07  ...       16.78   \n",
       "1             26     161.6        123       27.47  ...       16.62   \n",
       "\n",
       "   Night Mins  Night Calls  Night Charge  International Mins  \\\n",
       "0       244.7           91         11.01                10.0   \n",
       "1       254.4          103         11.45                13.7   \n",
       "\n",
       "   International Calls  International Charge  CustServ Calls   Churn  \\\n",
       "0                    3                   2.7               1  False.   \n",
       "1                    3                   3.7               1  False.   \n",
       "\n",
       "   CHURN-FLAG  \n",
       "0           0  \n",
       "1           0  \n",
       "\n",
       "[2 rows x 22 columns]"
      ]
     },
     "execution_count": 7,
     "metadata": {},
     "output_type": "execute_result"
    }
   ],
   "source": [
    "print(df.shape)\n",
    "df.head(2)"
   ]
  },
  {
   "cell_type": "markdown",
   "metadata": {},
   "source": [
    "#### Feature Engineering"
   ]
  },
  {
   "cell_type": "code",
   "execution_count": 8,
   "metadata": {},
   "outputs": [
    {
     "data": {
      "text/plain": [
       "(4617, 21)"
      ]
     },
     "execution_count": 8,
     "metadata": {},
     "output_type": "execute_result"
    }
   ],
   "source": [
    "#Phone number seems to be unrelated to churn, hence dropping\n",
    "df1 = df.drop('Phone', axis=1)\n",
    "df1.shape"
   ]
  },
  {
   "cell_type": "code",
   "execution_count": 9,
   "metadata": {},
   "outputs": [
    {
     "data": {
      "text/plain": [
       "Index(['State', 'Account Length', 'Area Code', 'International Plan',\n",
       "       'VMail Plan', 'VMail Message', 'Day Mins', 'Day Calls', 'Day Charge',\n",
       "       'Eve Mins', 'Eve Calls', 'Eve Charge', 'Night Mins', 'Night Calls',\n",
       "       'Night Charge', 'International Mins', 'International Calls',\n",
       "       'International Charge', 'CustServ Calls', 'Churn', 'CHURN-FLAG'],\n",
       "      dtype='object')"
      ]
     },
     "execution_count": 9,
     "metadata": {},
     "output_type": "execute_result"
    }
   ],
   "source": [
    "df1.columns"
   ]
  },
  {
   "cell_type": "code",
   "execution_count": 10,
   "metadata": {},
   "outputs": [
    {
     "data": {
      "text/plain": [
       "(4617, 17)"
      ]
     },
     "execution_count": 10,
     "metadata": {},
     "output_type": "execute_result"
    }
   ],
   "source": [
    "#Day Charge is a function of Day Calls and Day Mins, hence dropping 'Day Charge', \n",
    "#also dropping 'Eve Charge', 'Night Charge' and 'International Charge' for similar reason.\n",
    "df1.drop(['Day Charge', 'Eve Charge', 'Night Charge', 'International Charge', ], axis=1, inplace=True)\n",
    "df1.shape"
   ]
  },
  {
   "cell_type": "code",
   "execution_count": 11,
   "metadata": {},
   "outputs": [
    {
     "data": {
      "text/plain": [
       "(4617, 16)"
      ]
     },
     "execution_count": 11,
     "metadata": {},
     "output_type": "execute_result"
    }
   ],
   "source": [
    "#'Churn' having values 'True.' and 'False.' already captured in 'CHURN-FLAG'\n",
    "df1.drop('Churn', axis=1, inplace=True)\n",
    "df1.shape"
   ]
  },
  {
   "cell_type": "code",
   "execution_count": 12,
   "metadata": {},
   "outputs": [
    {
     "data": {
      "text/plain": [
       "['State', 'Area Code', 'International Plan', 'VMail Plan', 'CHURN-FLAG']"
      ]
     },
     "execution_count": 12,
     "metadata": {},
     "output_type": "execute_result"
    }
   ],
   "source": [
    "df1.select_dtypes(include=['category']).columns.tolist()"
   ]
  },
  {
   "cell_type": "code",
   "execution_count": 13,
   "metadata": {},
   "outputs": [
    {
     "name": "stdout",
     "output_type": "stream",
     "text": [
      "<class 'pandas.core.frame.DataFrame'>\n",
      "Int64Index: 4617 entries, 0 to 4616\n",
      "Data columns (total 16 columns):\n",
      "State                  4617 non-null category\n",
      "Account Length         4617 non-null int64\n",
      "Area Code              4617 non-null category\n",
      "International Plan     4617 non-null category\n",
      "VMail Plan             4617 non-null category\n",
      "VMail Message          4617 non-null int64\n",
      "Day Mins               4617 non-null float64\n",
      "Day Calls              4617 non-null int64\n",
      "Eve Mins               4617 non-null float64\n",
      "Eve Calls              4617 non-null int64\n",
      "Night Mins             4617 non-null float64\n",
      "Night Calls            4617 non-null int64\n",
      "International Mins     4617 non-null float64\n",
      "International Calls    4617 non-null int64\n",
      "CustServ Calls         4617 non-null int64\n",
      "CHURN-FLAG             4617 non-null category\n",
      "dtypes: category(5), float64(4), int64(7)\n",
      "memory usage: 458.7 KB\n"
     ]
    }
   ],
   "source": [
    "df1.info()"
   ]
  },
  {
   "cell_type": "code",
   "execution_count": 14,
   "metadata": {},
   "outputs": [
    {
     "data": {
      "text/html": [
       "<div>\n",
       "<style scoped>\n",
       "    .dataframe tbody tr th:only-of-type {\n",
       "        vertical-align: middle;\n",
       "    }\n",
       "\n",
       "    .dataframe tbody tr th {\n",
       "        vertical-align: top;\n",
       "    }\n",
       "\n",
       "    .dataframe thead th {\n",
       "        text-align: right;\n",
       "    }\n",
       "</style>\n",
       "<table border=\"1\" class=\"dataframe\">\n",
       "  <thead>\n",
       "    <tr style=\"text-align: right;\">\n",
       "      <th></th>\n",
       "      <th>State</th>\n",
       "      <th>Account Length</th>\n",
       "      <th>Area Code</th>\n",
       "      <th>International Plan</th>\n",
       "      <th>VMail Plan</th>\n",
       "      <th>VMail Message</th>\n",
       "      <th>Day Mins</th>\n",
       "      <th>Day Calls</th>\n",
       "      <th>Eve Mins</th>\n",
       "      <th>Eve Calls</th>\n",
       "      <th>Night Mins</th>\n",
       "      <th>Night Calls</th>\n",
       "      <th>International Mins</th>\n",
       "      <th>International Calls</th>\n",
       "      <th>CustServ Calls</th>\n",
       "      <th>CHURN-FLAG</th>\n",
       "    </tr>\n",
       "  </thead>\n",
       "  <tbody>\n",
       "    <tr>\n",
       "      <th>0</th>\n",
       "      <td>KS</td>\n",
       "      <td>128</td>\n",
       "      <td>415</td>\n",
       "      <td>no</td>\n",
       "      <td>yes</td>\n",
       "      <td>25</td>\n",
       "      <td>265.1</td>\n",
       "      <td>110</td>\n",
       "      <td>197.4</td>\n",
       "      <td>99</td>\n",
       "      <td>244.7</td>\n",
       "      <td>91</td>\n",
       "      <td>10.0</td>\n",
       "      <td>3</td>\n",
       "      <td>1</td>\n",
       "      <td>0</td>\n",
       "    </tr>\n",
       "    <tr>\n",
       "      <th>1</th>\n",
       "      <td>OH</td>\n",
       "      <td>107</td>\n",
       "      <td>415</td>\n",
       "      <td>no</td>\n",
       "      <td>yes</td>\n",
       "      <td>26</td>\n",
       "      <td>161.6</td>\n",
       "      <td>123</td>\n",
       "      <td>195.5</td>\n",
       "      <td>103</td>\n",
       "      <td>254.4</td>\n",
       "      <td>103</td>\n",
       "      <td>13.7</td>\n",
       "      <td>3</td>\n",
       "      <td>1</td>\n",
       "      <td>0</td>\n",
       "    </tr>\n",
       "    <tr>\n",
       "      <th>2</th>\n",
       "      <td>NJ</td>\n",
       "      <td>137</td>\n",
       "      <td>415</td>\n",
       "      <td>no</td>\n",
       "      <td>no</td>\n",
       "      <td>0</td>\n",
       "      <td>243.4</td>\n",
       "      <td>114</td>\n",
       "      <td>121.2</td>\n",
       "      <td>110</td>\n",
       "      <td>162.6</td>\n",
       "      <td>104</td>\n",
       "      <td>12.2</td>\n",
       "      <td>5</td>\n",
       "      <td>0</td>\n",
       "      <td>0</td>\n",
       "    </tr>\n",
       "    <tr>\n",
       "      <th>3</th>\n",
       "      <td>OH</td>\n",
       "      <td>84</td>\n",
       "      <td>408</td>\n",
       "      <td>yes</td>\n",
       "      <td>no</td>\n",
       "      <td>0</td>\n",
       "      <td>299.4</td>\n",
       "      <td>71</td>\n",
       "      <td>61.9</td>\n",
       "      <td>88</td>\n",
       "      <td>196.9</td>\n",
       "      <td>89</td>\n",
       "      <td>6.6</td>\n",
       "      <td>7</td>\n",
       "      <td>2</td>\n",
       "      <td>0</td>\n",
       "    </tr>\n",
       "    <tr>\n",
       "      <th>4</th>\n",
       "      <td>OK</td>\n",
       "      <td>75</td>\n",
       "      <td>415</td>\n",
       "      <td>yes</td>\n",
       "      <td>no</td>\n",
       "      <td>0</td>\n",
       "      <td>166.7</td>\n",
       "      <td>113</td>\n",
       "      <td>148.3</td>\n",
       "      <td>122</td>\n",
       "      <td>186.9</td>\n",
       "      <td>121</td>\n",
       "      <td>10.1</td>\n",
       "      <td>3</td>\n",
       "      <td>3</td>\n",
       "      <td>0</td>\n",
       "    </tr>\n",
       "  </tbody>\n",
       "</table>\n",
       "</div>"
      ],
      "text/plain": [
       "  State  Account Length Area Code International Plan VMail Plan  \\\n",
       "0    KS             128       415                 no        yes   \n",
       "1    OH             107       415                 no        yes   \n",
       "2    NJ             137       415                 no         no   \n",
       "3    OH              84       408                yes         no   \n",
       "4    OK              75       415                yes         no   \n",
       "\n",
       "   VMail Message  Day Mins  Day Calls  Eve Mins  Eve Calls  Night Mins  \\\n",
       "0             25     265.1        110     197.4         99       244.7   \n",
       "1             26     161.6        123     195.5        103       254.4   \n",
       "2              0     243.4        114     121.2        110       162.6   \n",
       "3              0     299.4         71      61.9         88       196.9   \n",
       "4              0     166.7        113     148.3        122       186.9   \n",
       "\n",
       "   Night Calls  International Mins  International Calls  CustServ Calls  \\\n",
       "0           91                10.0                    3               1   \n",
       "1          103                13.7                    3               1   \n",
       "2          104                12.2                    5               0   \n",
       "3           89                 6.6                    7               2   \n",
       "4          121                10.1                    3               3   \n",
       "\n",
       "  CHURN-FLAG  \n",
       "0          0  \n",
       "1          0  \n",
       "2          0  \n",
       "3          0  \n",
       "4          0  "
      ]
     },
     "execution_count": 14,
     "metadata": {},
     "output_type": "execute_result"
    }
   ],
   "source": [
    "df1.head()"
   ]
  },
  {
   "cell_type": "code",
   "execution_count": 15,
   "metadata": {},
   "outputs": [],
   "source": [
    "df1['CHURN-FLAG'] = df1['CHURN-FLAG'].astype(int)"
   ]
  },
  {
   "cell_type": "code",
   "execution_count": 16,
   "metadata": {},
   "outputs": [],
   "source": [
    "from sklearn.preprocessing import LabelEncoder\n",
    "df1.State = LabelEncoder().fit_transform(df1.State)\n",
    "df1['Area Code'] = LabelEncoder().fit_transform(df1['Area Code'])\n",
    "df1['International Plan'] = LabelEncoder().fit_transform(df1['International Plan'])\n",
    "df1['VMail Plan'] = LabelEncoder().fit_transform(df1['VMail Plan'])"
   ]
  },
  {
   "cell_type": "code",
   "execution_count": 17,
   "metadata": {},
   "outputs": [
    {
     "data": {
      "text/html": [
       "<div>\n",
       "<style scoped>\n",
       "    .dataframe tbody tr th:only-of-type {\n",
       "        vertical-align: middle;\n",
       "    }\n",
       "\n",
       "    .dataframe tbody tr th {\n",
       "        vertical-align: top;\n",
       "    }\n",
       "\n",
       "    .dataframe thead th {\n",
       "        text-align: right;\n",
       "    }\n",
       "</style>\n",
       "<table border=\"1\" class=\"dataframe\">\n",
       "  <thead>\n",
       "    <tr style=\"text-align: right;\">\n",
       "      <th></th>\n",
       "      <th>State</th>\n",
       "      <th>Account Length</th>\n",
       "      <th>Area Code</th>\n",
       "      <th>International Plan</th>\n",
       "      <th>VMail Plan</th>\n",
       "      <th>VMail Message</th>\n",
       "      <th>Day Mins</th>\n",
       "      <th>Day Calls</th>\n",
       "      <th>Eve Mins</th>\n",
       "      <th>Eve Calls</th>\n",
       "      <th>Night Mins</th>\n",
       "      <th>Night Calls</th>\n",
       "      <th>International Mins</th>\n",
       "      <th>International Calls</th>\n",
       "      <th>CustServ Calls</th>\n",
       "      <th>CHURN-FLAG</th>\n",
       "    </tr>\n",
       "  </thead>\n",
       "  <tbody>\n",
       "    <tr>\n",
       "      <th>0</th>\n",
       "      <td>16</td>\n",
       "      <td>128</td>\n",
       "      <td>1</td>\n",
       "      <td>0</td>\n",
       "      <td>1</td>\n",
       "      <td>25</td>\n",
       "      <td>265.1</td>\n",
       "      <td>110</td>\n",
       "      <td>197.4</td>\n",
       "      <td>99</td>\n",
       "      <td>244.7</td>\n",
       "      <td>91</td>\n",
       "      <td>10.0</td>\n",
       "      <td>3</td>\n",
       "      <td>1</td>\n",
       "      <td>0</td>\n",
       "    </tr>\n",
       "    <tr>\n",
       "      <th>1</th>\n",
       "      <td>35</td>\n",
       "      <td>107</td>\n",
       "      <td>1</td>\n",
       "      <td>0</td>\n",
       "      <td>1</td>\n",
       "      <td>26</td>\n",
       "      <td>161.6</td>\n",
       "      <td>123</td>\n",
       "      <td>195.5</td>\n",
       "      <td>103</td>\n",
       "      <td>254.4</td>\n",
       "      <td>103</td>\n",
       "      <td>13.7</td>\n",
       "      <td>3</td>\n",
       "      <td>1</td>\n",
       "      <td>0</td>\n",
       "    </tr>\n",
       "    <tr>\n",
       "      <th>2</th>\n",
       "      <td>31</td>\n",
       "      <td>137</td>\n",
       "      <td>1</td>\n",
       "      <td>0</td>\n",
       "      <td>0</td>\n",
       "      <td>0</td>\n",
       "      <td>243.4</td>\n",
       "      <td>114</td>\n",
       "      <td>121.2</td>\n",
       "      <td>110</td>\n",
       "      <td>162.6</td>\n",
       "      <td>104</td>\n",
       "      <td>12.2</td>\n",
       "      <td>5</td>\n",
       "      <td>0</td>\n",
       "      <td>0</td>\n",
       "    </tr>\n",
       "    <tr>\n",
       "      <th>3</th>\n",
       "      <td>35</td>\n",
       "      <td>84</td>\n",
       "      <td>0</td>\n",
       "      <td>1</td>\n",
       "      <td>0</td>\n",
       "      <td>0</td>\n",
       "      <td>299.4</td>\n",
       "      <td>71</td>\n",
       "      <td>61.9</td>\n",
       "      <td>88</td>\n",
       "      <td>196.9</td>\n",
       "      <td>89</td>\n",
       "      <td>6.6</td>\n",
       "      <td>7</td>\n",
       "      <td>2</td>\n",
       "      <td>0</td>\n",
       "    </tr>\n",
       "    <tr>\n",
       "      <th>4</th>\n",
       "      <td>36</td>\n",
       "      <td>75</td>\n",
       "      <td>1</td>\n",
       "      <td>1</td>\n",
       "      <td>0</td>\n",
       "      <td>0</td>\n",
       "      <td>166.7</td>\n",
       "      <td>113</td>\n",
       "      <td>148.3</td>\n",
       "      <td>122</td>\n",
       "      <td>186.9</td>\n",
       "      <td>121</td>\n",
       "      <td>10.1</td>\n",
       "      <td>3</td>\n",
       "      <td>3</td>\n",
       "      <td>0</td>\n",
       "    </tr>\n",
       "  </tbody>\n",
       "</table>\n",
       "</div>"
      ],
      "text/plain": [
       "   State  Account Length  Area Code  International Plan  VMail Plan  \\\n",
       "0     16             128          1                   0           1   \n",
       "1     35             107          1                   0           1   \n",
       "2     31             137          1                   0           0   \n",
       "3     35              84          0                   1           0   \n",
       "4     36              75          1                   1           0   \n",
       "\n",
       "   VMail Message  Day Mins  Day Calls  Eve Mins  Eve Calls  Night Mins  \\\n",
       "0             25     265.1        110     197.4         99       244.7   \n",
       "1             26     161.6        123     195.5        103       254.4   \n",
       "2              0     243.4        114     121.2        110       162.6   \n",
       "3              0     299.4         71      61.9         88       196.9   \n",
       "4              0     166.7        113     148.3        122       186.9   \n",
       "\n",
       "   Night Calls  International Mins  International Calls  CustServ Calls  \\\n",
       "0           91                10.0                    3               1   \n",
       "1          103                13.7                    3               1   \n",
       "2          104                12.2                    5               0   \n",
       "3           89                 6.6                    7               2   \n",
       "4          121                10.1                    3               3   \n",
       "\n",
       "   CHURN-FLAG  \n",
       "0           0  \n",
       "1           0  \n",
       "2           0  \n",
       "3           0  \n",
       "4           0  "
      ]
     },
     "execution_count": 17,
     "metadata": {},
     "output_type": "execute_result"
    }
   ],
   "source": [
    "df1.head()"
   ]
  },
  {
   "cell_type": "code",
   "execution_count": 18,
   "metadata": {},
   "outputs": [],
   "source": [
    "X = df1.iloc[:,:-1]"
   ]
  },
  {
   "cell_type": "code",
   "execution_count": 19,
   "metadata": {},
   "outputs": [],
   "source": [
    "y = df1['CHURN-FLAG']"
   ]
  },
  {
   "cell_type": "code",
   "execution_count": null,
   "metadata": {},
   "outputs": [],
   "source": []
  },
  {
   "cell_type": "markdown",
   "metadata": {},
   "source": [
    "## Establishing baseline scores using Naive Baye's Classifiers"
   ]
  },
  {
   "cell_type": "code",
   "execution_count": 25,
   "metadata": {},
   "outputs": [],
   "source": [
    "from sklearn.naive_bayes import GaussianNB, BernoulliNB, MultinomialNB"
   ]
  },
  {
   "cell_type": "code",
   "execution_count": 26,
   "metadata": {},
   "outputs": [],
   "source": [
    "model_gaussiannb = GaussianNB()\n",
    "\n",
    "model_gaussiannb.fit(X_train, y_train)\n",
    "y_predict = model_gaussiannb.predict(X_test)"
   ]
  },
  {
   "cell_type": "code",
   "execution_count": 27,
   "metadata": {},
   "outputs": [
    {
     "data": {
      "text/plain": [
       "0.8484848484848485"
      ]
     },
     "execution_count": 27,
     "metadata": {},
     "output_type": "execute_result"
    }
   ],
   "source": [
    "from sklearn.metrics import accuracy_score, confusion_matrix\n",
    "accuracy_score(y_test, y_predict)"
   ]
  },
  {
   "cell_type": "code",
   "execution_count": 28,
   "metadata": {},
   "outputs": [],
   "source": [
    "model_bernoullinb = BernoulliNB()\n",
    "\n",
    "model_bernoullinb.fit(X_train, y_train)\n",
    "y_predict = model_bernoullinb.predict(X_test)"
   ]
  },
  {
   "cell_type": "code",
   "execution_count": 29,
   "metadata": {},
   "outputs": [
    {
     "data": {
      "text/plain": [
       "0.8427128427128427"
      ]
     },
     "execution_count": 29,
     "metadata": {},
     "output_type": "execute_result"
    }
   ],
   "source": [
    "from sklearn.metrics import accuracy_score, confusion_matrix\n",
    "accuracy_score(y_test, y_predict)"
   ]
  },
  {
   "cell_type": "markdown",
   "metadata": {},
   "source": [
    "#### Base line score is around 85% - Using Naive Baye's ML"
   ]
  },
  {
   "cell_type": "markdown",
   "metadata": {},
   "source": [
    "## Using Random Forest ML - Using cross validation, without hyper parameter tuning"
   ]
  },
  {
   "cell_type": "code",
   "execution_count": 20,
   "metadata": {},
   "outputs": [],
   "source": [
    "from sklearn.ensemble import RandomForestClassifier\n",
    "model_rf = RandomForestClassifier(random_state=10)"
   ]
  },
  {
   "cell_type": "code",
   "execution_count": 21,
   "metadata": {},
   "outputs": [
    {
     "name": "stdout",
     "output_type": "stream",
     "text": [
      "[0.93722944 0.94588745 0.92857143 0.96320346 0.95238095 0.94588745\n",
      " 0.94805195 0.95661605 0.94143167 0.96095445]\n",
      "0.9480214290409519\n"
     ]
    }
   ],
   "source": [
    "from sklearn.model_selection import cross_val_score\n",
    "scores = cross_val_score(model_rf,X,y,\n",
    "                         cv=10,\n",
    "                         #scoring='recall',\n",
    "                         scoring='accuracy',\n",
    "                        )\n",
    "print(scores)\n",
    "print(scores.mean())"
   ]
  },
  {
   "cell_type": "markdown",
   "metadata": {},
   "source": [
    "#### RF accuracy is around 95%, 10 percentage points better than Naive Baye's"
   ]
  },
  {
   "cell_type": "code",
   "execution_count": 22,
   "metadata": {},
   "outputs": [],
   "source": [
    "from sklearn.model_selection import train_test_split"
   ]
  },
  {
   "cell_type": "code",
   "execution_count": 23,
   "metadata": {},
   "outputs": [],
   "source": [
    "X_train, X_test, y_train, y_test = train_test_split(X, y, test_size=0.3, random_state=10)"
   ]
  },
  {
   "cell_type": "code",
   "execution_count": 24,
   "metadata": {},
   "outputs": [
    {
     "name": "stdout",
     "output_type": "stream",
     "text": [
      "(3231, 15)\n",
      "(1386, 15)\n",
      "(3231,)\n",
      "(1386,)\n"
     ]
    }
   ],
   "source": [
    "print(X_train.shape)\n",
    "print(X_test.shape)\n",
    "print(y_train.shape)\n",
    "print(y_test.shape)"
   ]
  },
  {
   "cell_type": "markdown",
   "metadata": {},
   "source": [
    "## Using XGBoost, with learning_rate = 0.1, no_of_estimators=200, focusing on 'recall'"
   ]
  },
  {
   "cell_type": "code",
   "execution_count": 30,
   "metadata": {},
   "outputs": [],
   "source": [
    "from xgboost import XGBClassifier"
   ]
  },
  {
   "cell_type": "code",
   "execution_count": 31,
   "metadata": {},
   "outputs": [],
   "source": [
    "model_xg = XGBClassifier(learning_rate=0.1, random_state=0, n_estimators=200, scoring='recall')\n",
    "model_xg.fit(X_train, y_train)\n",
    "y_predict = model_xg.predict(X_test)"
   ]
  },
  {
   "cell_type": "code",
   "execution_count": 32,
   "metadata": {},
   "outputs": [
    {
     "data": {
      "text/plain": [
       "0.9595959595959596"
      ]
     },
     "execution_count": 32,
     "metadata": {},
     "output_type": "execute_result"
    }
   ],
   "source": [
    "accuracy_score(y_test, y_predict)"
   ]
  },
  {
   "cell_type": "code",
   "execution_count": 33,
   "metadata": {},
   "outputs": [
    {
     "data": {
      "text/html": [
       "<div>\n",
       "<style scoped>\n",
       "    .dataframe tbody tr th:only-of-type {\n",
       "        vertical-align: middle;\n",
       "    }\n",
       "\n",
       "    .dataframe tbody tr th {\n",
       "        vertical-align: top;\n",
       "    }\n",
       "\n",
       "    .dataframe thead th {\n",
       "        text-align: right;\n",
       "    }\n",
       "</style>\n",
       "<table border=\"1\" class=\"dataframe\">\n",
       "  <thead>\n",
       "    <tr style=\"text-align: right;\">\n",
       "      <th>col_0</th>\n",
       "      <th>0</th>\n",
       "      <th>1</th>\n",
       "    </tr>\n",
       "    <tr>\n",
       "      <th>CHURN-FLAG</th>\n",
       "      <th></th>\n",
       "      <th></th>\n",
       "    </tr>\n",
       "  </thead>\n",
       "  <tbody>\n",
       "    <tr>\n",
       "      <th>0</th>\n",
       "      <td>1193</td>\n",
       "      <td>7</td>\n",
       "    </tr>\n",
       "    <tr>\n",
       "      <th>1</th>\n",
       "      <td>49</td>\n",
       "      <td>137</td>\n",
       "    </tr>\n",
       "  </tbody>\n",
       "</table>\n",
       "</div>"
      ],
      "text/plain": [
       "col_0          0    1\n",
       "CHURN-FLAG           \n",
       "0           1193    7\n",
       "1             49  137"
      ]
     },
     "execution_count": 33,
     "metadata": {},
     "output_type": "execute_result"
    }
   ],
   "source": [
    "pd.crosstab(y_test, y_predict)"
   ]
  },
  {
   "cell_type": "markdown",
   "metadata": {},
   "source": [
    "#### With XGBoost, with given parameters, the accuracy improved by 1%, to 96%"
   ]
  },
  {
   "cell_type": "markdown",
   "metadata": {},
   "source": [
    "## Hyper Parameter tuning, on RF based model. Using RandomSearchCV for best parameters"
   ]
  },
  {
   "cell_type": "code",
   "execution_count": 34,
   "metadata": {},
   "outputs": [],
   "source": [
    "#model\n",
    "MOD = RandomForestClassifier() \n",
    "#Implemente RandomSearchCV\n",
    "m_params = { \n",
    "    \"n_estimators\" : np.linspace(2, 500, 500, dtype = \"int\"),  \n",
    "    \"max_depth\": [5, 20, 30, None], \n",
    "    \"min_samples_split\": np.linspace(2, 50, 50, dtype = \"int\"),  \n",
    "    \"max_features\": [\"sqrt\", \"log2\",10, 20, None],\n",
    "    \"oob_score\": [True],\n",
    "    \"bootstrap\": [True]\n",
    "}\n",
    "scoreFunction = {\"recall\": \"recall\", \"precision\": \"precision\"}\n",
    "\n",
    "from sklearn.model_selection import RandomizedSearchCV\n",
    "    \n",
    "random_search = RandomizedSearchCV(MOD,\n",
    "                                       param_distributions = m_params, \n",
    "                                       n_iter = 20,\n",
    "                                       scoring = scoreFunction,               \n",
    "                                       refit = \"recall\",\n",
    "                                       return_train_score = True,\n",
    "                                       random_state = 42,\n",
    "                                       cv = 5,\n",
    "                                       verbose = 5) "
   ]
  },
  {
   "cell_type": "code",
   "execution_count": 35,
   "metadata": {},
   "outputs": [
    {
     "name": "stdout",
     "output_type": "stream",
     "text": [
      "Fitting 5 folds for each of 20 candidates, totalling 100 fits\n",
      "[CV] oob_score=True, n_estimators=459, min_samples_split=44, max_features=None, max_depth=5, bootstrap=True \n"
     ]
    },
    {
     "name": "stderr",
     "output_type": "stream",
     "text": [
      "[Parallel(n_jobs=1)]: Using backend SequentialBackend with 1 concurrent workers.\n"
     ]
    },
    {
     "name": "stdout",
     "output_type": "stream",
     "text": [
      "[CV]  oob_score=True, n_estimators=459, min_samples_split=44, max_features=None, max_depth=5, bootstrap=True, precision=(train=0.942, test=0.855), recall=(train=0.739, test=0.691), total=   7.5s\n",
      "[CV] oob_score=True, n_estimators=459, min_samples_split=44, max_features=None, max_depth=5, bootstrap=True \n"
     ]
    },
    {
     "name": "stderr",
     "output_type": "stream",
     "text": [
      "[Parallel(n_jobs=1)]: Done   1 out of   1 | elapsed:    7.7s remaining:    0.0s\n"
     ]
    },
    {
     "name": "stdout",
     "output_type": "stream",
     "text": [
      "[CV]  oob_score=True, n_estimators=459, min_samples_split=44, max_features=None, max_depth=5, bootstrap=True, precision=(train=0.957, test=0.921), recall=(train=0.771, test=0.617), total=   7.6s\n",
      "[CV] oob_score=True, n_estimators=459, min_samples_split=44, max_features=None, max_depth=5, bootstrap=True \n"
     ]
    },
    {
     "name": "stderr",
     "output_type": "stream",
     "text": [
      "[Parallel(n_jobs=1)]: Done   2 out of   2 | elapsed:   15.5s remaining:    0.0s\n"
     ]
    },
    {
     "name": "stdout",
     "output_type": "stream",
     "text": [
      "[CV]  oob_score=True, n_estimators=459, min_samples_split=44, max_features=None, max_depth=5, bootstrap=True, precision=(train=0.961, test=0.931), recall=(train=0.713, test=0.713), total=   8.4s\n",
      "[CV] oob_score=True, n_estimators=459, min_samples_split=44, max_features=None, max_depth=5, bootstrap=True \n"
     ]
    },
    {
     "name": "stderr",
     "output_type": "stream",
     "text": [
      "[Parallel(n_jobs=1)]: Done   3 out of   3 | elapsed:   24.0s remaining:    0.0s\n"
     ]
    },
    {
     "name": "stdout",
     "output_type": "stream",
     "text": [
      "[CV]  oob_score=True, n_estimators=459, min_samples_split=44, max_features=None, max_depth=5, bootstrap=True, precision=(train=0.930, test=0.859), recall=(train=0.747, test=0.713), total=   7.9s\n",
      "[CV] oob_score=True, n_estimators=459, min_samples_split=44, max_features=None, max_depth=5, bootstrap=True \n"
     ]
    },
    {
     "name": "stderr",
     "output_type": "stream",
     "text": [
      "[Parallel(n_jobs=1)]: Done   4 out of   4 | elapsed:   32.2s remaining:    0.0s\n"
     ]
    },
    {
     "name": "stdout",
     "output_type": "stream",
     "text": [
      "[CV]  oob_score=True, n_estimators=459, min_samples_split=44, max_features=None, max_depth=5, bootstrap=True, precision=(train=0.944, test=0.915), recall=(train=0.723, test=0.691), total=   7.6s\n",
      "[CV] oob_score=True, n_estimators=368, min_samples_split=44, max_features=sqrt, max_depth=20, bootstrap=True \n",
      "[CV]  oob_score=True, n_estimators=368, min_samples_split=44, max_features=sqrt, max_depth=20, bootstrap=True, precision=(train=0.992, test=0.981), recall=(train=0.691, test=0.564), total=   3.6s\n",
      "[CV] oob_score=True, n_estimators=368, min_samples_split=44, max_features=sqrt, max_depth=20, bootstrap=True \n",
      "[CV]  oob_score=True, n_estimators=368, min_samples_split=44, max_features=sqrt, max_depth=20, bootstrap=True, precision=(train=0.985, test=0.939), recall=(train=0.686, test=0.489), total=   3.6s\n",
      "[CV] oob_score=True, n_estimators=368, min_samples_split=44, max_features=sqrt, max_depth=20, bootstrap=True \n",
      "[CV]  oob_score=True, n_estimators=368, min_samples_split=44, max_features=sqrt, max_depth=20, bootstrap=True, precision=(train=0.988, test=0.982), recall=(train=0.670, test=0.574), total=   3.6s\n",
      "[CV] oob_score=True, n_estimators=368, min_samples_split=44, max_features=sqrt, max_depth=20, bootstrap=True \n",
      "[CV]  oob_score=True, n_estimators=368, min_samples_split=44, max_features=sqrt, max_depth=20, bootstrap=True, precision=(train=0.992, test=0.904), recall=(train=0.684, test=0.500), total=   3.6s\n",
      "[CV] oob_score=True, n_estimators=368, min_samples_split=44, max_features=sqrt, max_depth=20, bootstrap=True \n",
      "[CV]  oob_score=True, n_estimators=368, min_samples_split=44, max_features=sqrt, max_depth=20, bootstrap=True, precision=(train=0.988, test=0.942), recall=(train=0.673, test=0.521), total=   3.8s\n",
      "[CV] oob_score=True, n_estimators=433, min_samples_split=14, max_features=sqrt, max_depth=20, bootstrap=True \n",
      "[CV]  oob_score=True, n_estimators=433, min_samples_split=14, max_features=sqrt, max_depth=20, bootstrap=True, precision=(train=1.000, test=0.983), recall=(train=0.848, test=0.628), total=   4.9s\n",
      "[CV] oob_score=True, n_estimators=433, min_samples_split=14, max_features=sqrt, max_depth=20, bootstrap=True \n",
      "[CV]  oob_score=True, n_estimators=433, min_samples_split=14, max_features=sqrt, max_depth=20, bootstrap=True, precision=(train=1.000, test=0.964), recall=(train=0.856, test=0.564), total=   4.4s\n",
      "[CV] oob_score=True, n_estimators=433, min_samples_split=14, max_features=sqrt, max_depth=20, bootstrap=True \n",
      "[CV]  oob_score=True, n_estimators=433, min_samples_split=14, max_features=sqrt, max_depth=20, bootstrap=True, precision=(train=1.000, test=0.970), recall=(train=0.832, test=0.691), total=   4.6s\n",
      "[CV] oob_score=True, n_estimators=433, min_samples_split=14, max_features=sqrt, max_depth=20, bootstrap=True \n",
      "[CV]  oob_score=True, n_estimators=433, min_samples_split=14, max_features=sqrt, max_depth=20, bootstrap=True, precision=(train=1.000, test=0.889), recall=(train=0.824, test=0.596), total=   4.6s\n",
      "[CV] oob_score=True, n_estimators=433, min_samples_split=14, max_features=sqrt, max_depth=20, bootstrap=True \n",
      "[CV]  oob_score=True, n_estimators=433, min_samples_split=14, max_features=sqrt, max_depth=20, bootstrap=True, precision=(train=1.000, test=0.967), recall=(train=0.830, test=0.617), total=   4.5s\n",
      "[CV] oob_score=True, n_estimators=339, min_samples_split=32, max_features=None, max_depth=30, bootstrap=True \n",
      "[CV]  oob_score=True, n_estimators=339, min_samples_split=32, max_features=None, max_depth=30, bootstrap=True, precision=(train=0.974, test=0.859), recall=(train=0.803, test=0.713), total=  10.1s\n",
      "[CV] oob_score=True, n_estimators=339, min_samples_split=32, max_features=None, max_depth=30, bootstrap=True \n",
      "[CV]  oob_score=True, n_estimators=339, min_samples_split=32, max_features=None, max_depth=30, bootstrap=True, precision=(train=0.959, test=0.925), recall=(train=0.816, test=0.660), total=  10.3s\n",
      "[CV] oob_score=True, n_estimators=339, min_samples_split=32, max_features=None, max_depth=30, bootstrap=True \n",
      "[CV]  oob_score=True, n_estimators=339, min_samples_split=32, max_features=None, max_depth=30, bootstrap=True, precision=(train=0.974, test=0.923), recall=(train=0.782, test=0.766), total=  10.8s\n",
      "[CV] oob_score=True, n_estimators=339, min_samples_split=32, max_features=None, max_depth=30, bootstrap=True \n",
      "[CV]  oob_score=True, n_estimators=339, min_samples_split=32, max_features=None, max_depth=30, bootstrap=True, precision=(train=0.941, test=0.812), recall=(train=0.801, test=0.734), total=  10.4s\n",
      "[CV] oob_score=True, n_estimators=339, min_samples_split=32, max_features=None, max_depth=30, bootstrap=True \n",
      "[CV]  oob_score=True, n_estimators=339, min_samples_split=32, max_features=None, max_depth=30, bootstrap=True, precision=(train=0.959, test=0.896), recall=(train=0.809, test=0.734), total=  10.6s\n",
      "[CV] oob_score=True, n_estimators=179, min_samples_split=19, max_features=sqrt, max_depth=30, bootstrap=True \n",
      "[CV]  oob_score=True, n_estimators=179, min_samples_split=19, max_features=sqrt, max_depth=30, bootstrap=True, precision=(train=1.000, test=1.000), recall=(train=0.827, test=0.638), total=   1.8s\n",
      "[CV] oob_score=True, n_estimators=179, min_samples_split=19, max_features=sqrt, max_depth=30, bootstrap=True \n",
      "[CV]  oob_score=True, n_estimators=179, min_samples_split=19, max_features=sqrt, max_depth=30, bootstrap=True, precision=(train=1.000, test=0.962), recall=(train=0.840, test=0.543), total=   1.9s\n",
      "[CV] oob_score=True, n_estimators=179, min_samples_split=19, max_features=sqrt, max_depth=30, bootstrap=True \n",
      "[CV]  oob_score=True, n_estimators=179, min_samples_split=19, max_features=sqrt, max_depth=30, bootstrap=True, precision=(train=1.000, test=0.969), recall=(train=0.801, test=0.660), total=   1.9s\n",
      "[CV] oob_score=True, n_estimators=179, min_samples_split=19, max_features=sqrt, max_depth=30, bootstrap=True \n",
      "[CV]  oob_score=True, n_estimators=179, min_samples_split=19, max_features=sqrt, max_depth=30, bootstrap=True, precision=(train=1.000, test=0.933), recall=(train=0.806, test=0.596), total=   1.9s\n",
      "[CV] oob_score=True, n_estimators=179, min_samples_split=19, max_features=sqrt, max_depth=30, bootstrap=True \n",
      "[CV]  oob_score=True, n_estimators=179, min_samples_split=19, max_features=sqrt, max_depth=30, bootstrap=True, precision=(train=1.000, test=0.932), recall=(train=0.806, test=0.585), total=   1.9s\n",
      "[CV] oob_score=True, n_estimators=380, min_samples_split=40, max_features=None, max_depth=5, bootstrap=True \n",
      "[CV]  oob_score=True, n_estimators=380, min_samples_split=40, max_features=None, max_depth=5, bootstrap=True, precision=(train=0.942, test=0.867), recall=(train=0.737, test=0.691), total=   6.2s\n",
      "[CV] oob_score=True, n_estimators=380, min_samples_split=40, max_features=None, max_depth=5, bootstrap=True \n",
      "[CV]  oob_score=True, n_estimators=380, min_samples_split=40, max_features=None, max_depth=5, bootstrap=True, precision=(train=0.963, test=0.919), recall=(train=0.758, test=0.606), total=   6.2s\n",
      "[CV] oob_score=True, n_estimators=380, min_samples_split=40, max_features=None, max_depth=5, bootstrap=True \n",
      "[CV]  oob_score=True, n_estimators=380, min_samples_split=40, max_features=None, max_depth=5, bootstrap=True, precision=(train=0.964, test=0.931), recall=(train=0.718, test=0.713), total=   6.3s\n",
      "[CV] oob_score=True, n_estimators=380, min_samples_split=40, max_features=None, max_depth=5, bootstrap=True \n",
      "[CV]  oob_score=True, n_estimators=380, min_samples_split=40, max_features=None, max_depth=5, bootstrap=True, precision=(train=0.931, test=0.859), recall=(train=0.750, test=0.713), total=   6.2s\n",
      "[CV] oob_score=True, n_estimators=380, min_samples_split=40, max_features=None, max_depth=5, bootstrap=True \n",
      "[CV]  oob_score=True, n_estimators=380, min_samples_split=40, max_features=None, max_depth=5, bootstrap=True, precision=(train=0.948, test=0.912), recall=(train=0.721, test=0.660), total=   6.1s\n",
      "[CV] oob_score=True, n_estimators=269, min_samples_split=21, max_features=None, max_depth=5, bootstrap=True \n",
      "[CV]  oob_score=True, n_estimators=269, min_samples_split=21, max_features=None, max_depth=5, bootstrap=True, precision=(train=0.960, test=0.892), recall=(train=0.763, test=0.702), total=   4.4s\n",
      "[CV] oob_score=True, n_estimators=269, min_samples_split=21, max_features=None, max_depth=5, bootstrap=True \n"
     ]
    },
    {
     "name": "stdout",
     "output_type": "stream",
     "text": [
      "[CV]  oob_score=True, n_estimators=269, min_samples_split=21, max_features=None, max_depth=5, bootstrap=True, precision=(train=0.962, test=0.940), recall=(train=0.798, test=0.670), total=   4.4s\n",
      "[CV] oob_score=True, n_estimators=269, min_samples_split=21, max_features=None, max_depth=5, bootstrap=True \n",
      "[CV]  oob_score=True, n_estimators=269, min_samples_split=21, max_features=None, max_depth=5, bootstrap=True, precision=(train=0.966, test=0.932), recall=(train=0.750, test=0.734), total=   4.8s\n",
      "[CV] oob_score=True, n_estimators=269, min_samples_split=21, max_features=None, max_depth=5, bootstrap=True \n",
      "[CV]  oob_score=True, n_estimators=269, min_samples_split=21, max_features=None, max_depth=5, bootstrap=True, precision=(train=0.932, test=0.861), recall=(train=0.763, test=0.723), total=   4.4s\n",
      "[CV] oob_score=True, n_estimators=269, min_samples_split=21, max_features=None, max_depth=5, bootstrap=True \n",
      "[CV]  oob_score=True, n_estimators=269, min_samples_split=21, max_features=None, max_depth=5, bootstrap=True, precision=(train=0.958, test=0.909), recall=(train=0.734, test=0.638), total=   4.3s\n",
      "[CV] oob_score=True, n_estimators=393, min_samples_split=16, max_features=20, max_depth=20, bootstrap=True \n"
     ]
    },
    {
     "name": "stderr",
     "output_type": "stream",
     "text": [
      "C:\\Users\\91984\\AppData\\Local\\Continuum\\anaconda3\\lib\\site-packages\\sklearn\\model_selection\\_validation.py:536: FitFailedWarning: Estimator fit failed. The score on this train-test partition for these parameters will be set to nan. Details: \n",
      "ValueError: max_features must be in (0, n_features]\n",
      "\n",
      "  FitFailedWarning)\n"
     ]
    },
    {
     "name": "stdout",
     "output_type": "stream",
     "text": [
      "[CV]  oob_score=True, n_estimators=393, min_samples_split=16, max_features=20, max_depth=20, bootstrap=True, precision=(train=nan, test=nan), recall=(train=nan, test=nan), total=   0.3s\n",
      "[CV] oob_score=True, n_estimators=393, min_samples_split=16, max_features=20, max_depth=20, bootstrap=True \n"
     ]
    },
    {
     "name": "stderr",
     "output_type": "stream",
     "text": [
      "C:\\Users\\91984\\AppData\\Local\\Continuum\\anaconda3\\lib\\site-packages\\sklearn\\model_selection\\_validation.py:536: FitFailedWarning: Estimator fit failed. The score on this train-test partition for these parameters will be set to nan. Details: \n",
      "ValueError: max_features must be in (0, n_features]\n",
      "\n",
      "  FitFailedWarning)\n"
     ]
    },
    {
     "name": "stdout",
     "output_type": "stream",
     "text": [
      "[CV]  oob_score=True, n_estimators=393, min_samples_split=16, max_features=20, max_depth=20, bootstrap=True, precision=(train=nan, test=nan), recall=(train=nan, test=nan), total=   0.3s\n",
      "[CV] oob_score=True, n_estimators=393, min_samples_split=16, max_features=20, max_depth=20, bootstrap=True \n"
     ]
    },
    {
     "name": "stderr",
     "output_type": "stream",
     "text": [
      "C:\\Users\\91984\\AppData\\Local\\Continuum\\anaconda3\\lib\\site-packages\\sklearn\\model_selection\\_validation.py:536: FitFailedWarning: Estimator fit failed. The score on this train-test partition for these parameters will be set to nan. Details: \n",
      "ValueError: max_features must be in (0, n_features]\n",
      "\n",
      "  FitFailedWarning)\n"
     ]
    },
    {
     "name": "stdout",
     "output_type": "stream",
     "text": [
      "[CV]  oob_score=True, n_estimators=393, min_samples_split=16, max_features=20, max_depth=20, bootstrap=True, precision=(train=nan, test=nan), recall=(train=nan, test=nan), total=   0.3s\n",
      "[CV] oob_score=True, n_estimators=393, min_samples_split=16, max_features=20, max_depth=20, bootstrap=True \n"
     ]
    },
    {
     "name": "stderr",
     "output_type": "stream",
     "text": [
      "C:\\Users\\91984\\AppData\\Local\\Continuum\\anaconda3\\lib\\site-packages\\sklearn\\model_selection\\_validation.py:536: FitFailedWarning: Estimator fit failed. The score on this train-test partition for these parameters will be set to nan. Details: \n",
      "ValueError: max_features must be in (0, n_features]\n",
      "\n",
      "  FitFailedWarning)\n"
     ]
    },
    {
     "name": "stdout",
     "output_type": "stream",
     "text": [
      "[CV]  oob_score=True, n_estimators=393, min_samples_split=16, max_features=20, max_depth=20, bootstrap=True, precision=(train=nan, test=nan), recall=(train=nan, test=nan), total=   0.3s\n",
      "[CV] oob_score=True, n_estimators=393, min_samples_split=16, max_features=20, max_depth=20, bootstrap=True \n"
     ]
    },
    {
     "name": "stderr",
     "output_type": "stream",
     "text": [
      "C:\\Users\\91984\\AppData\\Local\\Continuum\\anaconda3\\lib\\site-packages\\sklearn\\model_selection\\_validation.py:536: FitFailedWarning: Estimator fit failed. The score on this train-test partition for these parameters will be set to nan. Details: \n",
      "ValueError: max_features must be in (0, n_features]\n",
      "\n",
      "  FitFailedWarning)\n"
     ]
    },
    {
     "name": "stdout",
     "output_type": "stream",
     "text": [
      "[CV]  oob_score=True, n_estimators=393, min_samples_split=16, max_features=20, max_depth=20, bootstrap=True, precision=(train=nan, test=nan), recall=(train=nan, test=nan), total=   0.3s\n",
      "[CV] oob_score=True, n_estimators=387, min_samples_split=10, max_features=10, max_depth=5, bootstrap=True \n",
      "[CV]  oob_score=True, n_estimators=387, min_samples_split=10, max_features=10, max_depth=5, bootstrap=True, precision=(train=0.982, test=0.925), recall=(train=0.739, test=0.660), total=   4.8s\n",
      "[CV] oob_score=True, n_estimators=387, min_samples_split=10, max_features=10, max_depth=5, bootstrap=True \n",
      "[CV]  oob_score=True, n_estimators=387, min_samples_split=10, max_features=10, max_depth=5, bootstrap=True, precision=(train=0.979, test=0.967), recall=(train=0.731, test=0.617), total=   4.9s\n",
      "[CV] oob_score=True, n_estimators=387, min_samples_split=10, max_features=10, max_depth=5, bootstrap=True \n",
      "[CV]  oob_score=True, n_estimators=387, min_samples_split=10, max_features=10, max_depth=5, bootstrap=True, precision=(train=0.988, test=0.939), recall=(train=0.684, test=0.660), total=   4.9s\n",
      "[CV] oob_score=True, n_estimators=387, min_samples_split=10, max_features=10, max_depth=5, bootstrap=True \n",
      "[CV]  oob_score=True, n_estimators=387, min_samples_split=10, max_features=10, max_depth=5, bootstrap=True, precision=(train=0.986, test=0.863), recall=(train=0.745, test=0.670), total=   4.9s\n",
      "[CV] oob_score=True, n_estimators=387, min_samples_split=10, max_features=10, max_depth=5, bootstrap=True \n",
      "[CV]  oob_score=True, n_estimators=387, min_samples_split=10, max_features=10, max_depth=5, bootstrap=True, precision=(train=0.985, test=0.935), recall=(train=0.697, test=0.617), total=   4.9s\n",
      "[CV] oob_score=True, n_estimators=338, min_samples_split=25, max_features=sqrt, max_depth=20, bootstrap=True \n",
      "[CV]  oob_score=True, n_estimators=338, min_samples_split=25, max_features=sqrt, max_depth=20, bootstrap=True, precision=(train=1.000, test=0.966), recall=(train=0.787, test=0.606), total=   3.4s\n",
      "[CV] oob_score=True, n_estimators=338, min_samples_split=25, max_features=sqrt, max_depth=20, bootstrap=True \n",
      "[CV]  oob_score=True, n_estimators=338, min_samples_split=25, max_features=sqrt, max_depth=20, bootstrap=True, precision=(train=1.000, test=0.964), recall=(train=0.819, test=0.564), total=   3.5s\n",
      "[CV] oob_score=True, n_estimators=338, min_samples_split=25, max_features=sqrt, max_depth=20, bootstrap=True \n",
      "[CV]  oob_score=True, n_estimators=338, min_samples_split=25, max_features=sqrt, max_depth=20, bootstrap=True, precision=(train=1.000, test=0.984), recall=(train=0.774, test=0.649), total=   3.5s\n",
      "[CV] oob_score=True, n_estimators=338, min_samples_split=25, max_features=sqrt, max_depth=20, bootstrap=True \n",
      "[CV]  oob_score=True, n_estimators=338, min_samples_split=25, max_features=sqrt, max_depth=20, bootstrap=True, precision=(train=1.000, test=0.906), recall=(train=0.774, test=0.511), total=   3.5s\n",
      "[CV] oob_score=True, n_estimators=338, min_samples_split=25, max_features=sqrt, max_depth=20, bootstrap=True \n",
      "[CV]  oob_score=True, n_estimators=338, min_samples_split=25, max_features=sqrt, max_depth=20, bootstrap=True, precision=(train=1.000, test=0.947), recall=(train=0.787, test=0.574), total=   3.5s\n",
      "[CV] oob_score=True, n_estimators=103, min_samples_split=2, max_features=None, max_depth=None, bootstrap=True \n",
      "[CV]  oob_score=True, n_estimators=103, min_samples_split=2, max_features=None, max_depth=None, bootstrap=True, precision=(train=1.000, test=0.919), recall=(train=1.000, test=0.723), total=   3.3s\n",
      "[CV] oob_score=True, n_estimators=103, min_samples_split=2, max_features=None, max_depth=None, bootstrap=True \n",
      "[CV]  oob_score=True, n_estimators=103, min_samples_split=2, max_features=None, max_depth=None, bootstrap=True, precision=(train=1.000, test=0.970), recall=(train=1.000, test=0.691), total=   3.3s\n",
      "[CV] oob_score=True, n_estimators=103, min_samples_split=2, max_features=None, max_depth=None, bootstrap=True \n",
      "[CV]  oob_score=True, n_estimators=103, min_samples_split=2, max_features=None, max_depth=None, bootstrap=True, precision=(train=0.997, test=0.938), recall=(train=1.000, test=0.798), total=   3.3s\n",
      "[CV] oob_score=True, n_estimators=103, min_samples_split=2, max_features=None, max_depth=None, bootstrap=True \n",
      "[CV]  oob_score=True, n_estimators=103, min_samples_split=2, max_features=None, max_depth=None, bootstrap=True, precision=(train=1.000, test=0.885), recall=(train=1.000, test=0.734), total=   3.3s\n",
      "[CV] oob_score=True, n_estimators=103, min_samples_split=2, max_features=None, max_depth=None, bootstrap=True \n",
      "[CV]  oob_score=True, n_estimators=103, min_samples_split=2, max_features=None, max_depth=None, bootstrap=True, precision=(train=1.000, test=0.922), recall=(train=1.000, test=0.755), total=   3.5s\n",
      "[CV] oob_score=True, n_estimators=411, min_samples_split=11, max_features=10, max_depth=None, bootstrap=True \n",
      "[CV]  oob_score=True, n_estimators=411, min_samples_split=11, max_features=10, max_depth=None, bootstrap=True, precision=(train=0.997, test=0.932), recall=(train=0.856, test=0.723), total=   9.1s\n",
      "[CV] oob_score=True, n_estimators=411, min_samples_split=11, max_features=10, max_depth=None, bootstrap=True \n",
      "[CV]  oob_score=True, n_estimators=411, min_samples_split=11, max_features=10, max_depth=None, bootstrap=True, precision=(train=0.991, test=0.957), recall=(train=0.862, test=0.702), total=   9.2s\n",
      "[CV] oob_score=True, n_estimators=411, min_samples_split=11, max_features=10, max_depth=None, bootstrap=True \n",
      "[CV]  oob_score=True, n_estimators=411, min_samples_split=11, max_features=10, max_depth=None, bootstrap=True, precision=(train=0.997, test=0.938), recall=(train=0.843, test=0.809), total=   9.4s\n",
      "[CV] oob_score=True, n_estimators=411, min_samples_split=11, max_features=10, max_depth=None, bootstrap=True \n",
      "[CV]  oob_score=True, n_estimators=411, min_samples_split=11, max_features=10, max_depth=None, bootstrap=True, precision=(train=0.991, test=0.843), recall=(train=0.838, test=0.745), total=   9.3s\n",
      "[CV] oob_score=True, n_estimators=411, min_samples_split=11, max_features=10, max_depth=None, bootstrap=True \n",
      "[CV]  oob_score=True, n_estimators=411, min_samples_split=11, max_features=10, max_depth=None, bootstrap=True, precision=(train=0.994, test=0.932), recall=(train=0.846, test=0.723), total=   9.5s\n",
      "[CV] oob_score=True, n_estimators=499, min_samples_split=25, max_features=20, max_depth=5, bootstrap=True \n"
     ]
    },
    {
     "name": "stderr",
     "output_type": "stream",
     "text": [
      "C:\\Users\\91984\\AppData\\Local\\Continuum\\anaconda3\\lib\\site-packages\\sklearn\\model_selection\\_validation.py:536: FitFailedWarning: Estimator fit failed. The score on this train-test partition for these parameters will be set to nan. Details: \n",
      "ValueError: max_features must be in (0, n_features]\n",
      "\n",
      "  FitFailedWarning)\n"
     ]
    },
    {
     "name": "stdout",
     "output_type": "stream",
     "text": [
      "[CV]  oob_score=True, n_estimators=499, min_samples_split=25, max_features=20, max_depth=5, bootstrap=True, precision=(train=nan, test=nan), recall=(train=nan, test=nan), total=   0.4s\n",
      "[CV] oob_score=True, n_estimators=499, min_samples_split=25, max_features=20, max_depth=5, bootstrap=True \n"
     ]
    },
    {
     "name": "stderr",
     "output_type": "stream",
     "text": [
      "C:\\Users\\91984\\AppData\\Local\\Continuum\\anaconda3\\lib\\site-packages\\sklearn\\model_selection\\_validation.py:536: FitFailedWarning: Estimator fit failed. The score on this train-test partition for these parameters will be set to nan. Details: \n",
      "ValueError: max_features must be in (0, n_features]\n",
      "\n",
      "  FitFailedWarning)\n"
     ]
    },
    {
     "name": "stdout",
     "output_type": "stream",
     "text": [
      "[CV]  oob_score=True, n_estimators=499, min_samples_split=25, max_features=20, max_depth=5, bootstrap=True, precision=(train=nan, test=nan), recall=(train=nan, test=nan), total=   0.4s\n",
      "[CV] oob_score=True, n_estimators=499, min_samples_split=25, max_features=20, max_depth=5, bootstrap=True \n"
     ]
    },
    {
     "name": "stderr",
     "output_type": "stream",
     "text": [
      "C:\\Users\\91984\\AppData\\Local\\Continuum\\anaconda3\\lib\\site-packages\\sklearn\\model_selection\\_validation.py:536: FitFailedWarning: Estimator fit failed. The score on this train-test partition for these parameters will be set to nan. Details: \n",
      "ValueError: max_features must be in (0, n_features]\n",
      "\n",
      "  FitFailedWarning)\n"
     ]
    },
    {
     "name": "stdout",
     "output_type": "stream",
     "text": [
      "[CV]  oob_score=True, n_estimators=499, min_samples_split=25, max_features=20, max_depth=5, bootstrap=True, precision=(train=nan, test=nan), recall=(train=nan, test=nan), total=   0.4s\n",
      "[CV] oob_score=True, n_estimators=499, min_samples_split=25, max_features=20, max_depth=5, bootstrap=True \n"
     ]
    },
    {
     "name": "stderr",
     "output_type": "stream",
     "text": [
      "C:\\Users\\91984\\AppData\\Local\\Continuum\\anaconda3\\lib\\site-packages\\sklearn\\model_selection\\_validation.py:536: FitFailedWarning: Estimator fit failed. The score on this train-test partition for these parameters will be set to nan. Details: \n",
      "ValueError: max_features must be in (0, n_features]\n",
      "\n",
      "  FitFailedWarning)\n"
     ]
    },
    {
     "name": "stdout",
     "output_type": "stream",
     "text": [
      "[CV]  oob_score=True, n_estimators=499, min_samples_split=25, max_features=20, max_depth=5, bootstrap=True, precision=(train=nan, test=nan), recall=(train=nan, test=nan), total=   0.5s\n",
      "[CV] oob_score=True, n_estimators=499, min_samples_split=25, max_features=20, max_depth=5, bootstrap=True \n"
     ]
    },
    {
     "name": "stderr",
     "output_type": "stream",
     "text": [
      "C:\\Users\\91984\\AppData\\Local\\Continuum\\anaconda3\\lib\\site-packages\\sklearn\\model_selection\\_validation.py:536: FitFailedWarning: Estimator fit failed. The score on this train-test partition for these parameters will be set to nan. Details: \n",
      "ValueError: max_features must be in (0, n_features]\n",
      "\n",
      "  FitFailedWarning)\n"
     ]
    },
    {
     "name": "stdout",
     "output_type": "stream",
     "text": [
      "[CV]  oob_score=True, n_estimators=499, min_samples_split=25, max_features=20, max_depth=5, bootstrap=True, precision=(train=nan, test=nan), recall=(train=nan, test=nan), total=   0.4s\n",
      "[CV] oob_score=True, n_estimators=372, min_samples_split=50, max_features=None, max_depth=30, bootstrap=True \n",
      "[CV]  oob_score=True, n_estimators=372, min_samples_split=50, max_features=None, max_depth=30, bootstrap=True, precision=(train=0.930, test=0.829), recall=(train=0.774, test=0.723), total=  10.9s\n",
      "[CV] oob_score=True, n_estimators=372, min_samples_split=50, max_features=None, max_depth=30, bootstrap=True \n",
      "[CV]  oob_score=True, n_estimators=372, min_samples_split=50, max_features=None, max_depth=30, bootstrap=True, precision=(train=0.955, test=0.912), recall=(train=0.795, test=0.660), total=  11.1s\n",
      "[CV] oob_score=True, n_estimators=372, min_samples_split=50, max_features=None, max_depth=30, bootstrap=True \n",
      "[CV]  oob_score=True, n_estimators=372, min_samples_split=50, max_features=None, max_depth=30, bootstrap=True, precision=(train=0.946, test=0.925), recall=(train=0.750, test=0.787), total=  11.3s\n",
      "[CV] oob_score=True, n_estimators=372, min_samples_split=50, max_features=None, max_depth=30, bootstrap=True \n",
      "[CV]  oob_score=True, n_estimators=372, min_samples_split=50, max_features=None, max_depth=30, bootstrap=True, precision=(train=0.934, test=0.840), recall=(train=0.753, test=0.723), total=  11.5s\n",
      "[CV] oob_score=True, n_estimators=372, min_samples_split=50, max_features=None, max_depth=30, bootstrap=True \n",
      "[CV]  oob_score=True, n_estimators=372, min_samples_split=50, max_features=None, max_depth=30, bootstrap=True, precision=(train=0.942, test=0.893), recall=(train=0.779, test=0.713), total=  11.8s\n",
      "[CV] oob_score=True, n_estimators=469, min_samples_split=27, max_features=sqrt, max_depth=None, bootstrap=True \n",
      "[CV]  oob_score=True, n_estimators=469, min_samples_split=27, max_features=sqrt, max_depth=None, bootstrap=True, precision=(train=1.000, test=0.966), recall=(train=0.779, test=0.606), total=   4.9s\n",
      "[CV] oob_score=True, n_estimators=469, min_samples_split=27, max_features=sqrt, max_depth=None, bootstrap=True \n",
      "[CV]  oob_score=True, n_estimators=469, min_samples_split=27, max_features=sqrt, max_depth=None, bootstrap=True, precision=(train=1.000, test=0.946), recall=(train=0.793, test=0.564), total=   5.7s\n",
      "[CV] oob_score=True, n_estimators=469, min_samples_split=27, max_features=sqrt, max_depth=None, bootstrap=True \n",
      "[CV]  oob_score=True, n_estimators=469, min_samples_split=27, max_features=sqrt, max_depth=None, bootstrap=True, precision=(train=1.000, test=0.983), recall=(train=0.753, test=0.628), total=   4.9s\n",
      "[CV] oob_score=True, n_estimators=469, min_samples_split=27, max_features=sqrt, max_depth=None, bootstrap=True \n",
      "[CV]  oob_score=True, n_estimators=469, min_samples_split=27, max_features=sqrt, max_depth=None, bootstrap=True, precision=(train=1.000, test=0.875), recall=(train=0.766, test=0.521), total=   4.8s\n",
      "[CV] oob_score=True, n_estimators=469, min_samples_split=27, max_features=sqrt, max_depth=None, bootstrap=True \n",
      "[CV]  oob_score=True, n_estimators=469, min_samples_split=27, max_features=sqrt, max_depth=None, bootstrap=True, precision=(train=0.997, test=0.930), recall=(train=0.777, test=0.564), total=   4.9s\n",
      "[CV] oob_score=True, n_estimators=204, min_samples_split=2, max_features=10, max_depth=20, bootstrap=True \n",
      "[CV]  oob_score=True, n_estimators=204, min_samples_split=2, max_features=10, max_depth=20, bootstrap=True, precision=(train=1.000, test=0.944), recall=(train=1.000, test=0.713), total=   4.5s\n",
      "[CV] oob_score=True, n_estimators=204, min_samples_split=2, max_features=10, max_depth=20, bootstrap=True \n",
      "[CV]  oob_score=True, n_estimators=204, min_samples_split=2, max_features=10, max_depth=20, bootstrap=True, precision=(train=1.000, test=1.000), recall=(train=1.000, test=0.702), total=   4.6s\n",
      "[CV] oob_score=True, n_estimators=204, min_samples_split=2, max_features=10, max_depth=20, bootstrap=True \n",
      "[CV]  oob_score=True, n_estimators=204, min_samples_split=2, max_features=10, max_depth=20, bootstrap=True, precision=(train=1.000, test=0.938), recall=(train=1.000, test=0.809), total=   4.7s\n",
      "[CV] oob_score=True, n_estimators=204, min_samples_split=2, max_features=10, max_depth=20, bootstrap=True \n",
      "[CV]  oob_score=True, n_estimators=204, min_samples_split=2, max_features=10, max_depth=20, bootstrap=True, precision=(train=1.000, test=0.875), recall=(train=1.000, test=0.745), total=   4.6s\n",
      "[CV] oob_score=True, n_estimators=204, min_samples_split=2, max_features=10, max_depth=20, bootstrap=True \n",
      "[CV]  oob_score=True, n_estimators=204, min_samples_split=2, max_features=10, max_depth=20, bootstrap=True, precision=(train=1.000, test=0.934), recall=(train=1.000, test=0.755), total=   5.1s\n",
      "[CV] oob_score=True, n_estimators=336, min_samples_split=33, max_features=10, max_depth=20, bootstrap=True \n",
      "[CV]  oob_score=True, n_estimators=336, min_samples_split=33, max_features=10, max_depth=20, bootstrap=True, precision=(train=0.971, test=0.907), recall=(train=0.811, test=0.723), total=   7.3s\n",
      "[CV] oob_score=True, n_estimators=336, min_samples_split=33, max_features=10, max_depth=20, bootstrap=True \n",
      "[CV]  oob_score=True, n_estimators=336, min_samples_split=33, max_features=10, max_depth=20, bootstrap=True, precision=(train=0.965, test=0.929), recall=(train=0.816, test=0.691), total=   7.2s\n",
      "[CV] oob_score=True, n_estimators=336, min_samples_split=33, max_features=10, max_depth=20, bootstrap=True \n",
      "[CV]  oob_score=True, n_estimators=336, min_samples_split=33, max_features=10, max_depth=20, bootstrap=True, precision=(train=0.983, test=0.923), recall=(train=0.793, test=0.766), total=   7.5s\n",
      "[CV] oob_score=True, n_estimators=336, min_samples_split=33, max_features=10, max_depth=20, bootstrap=True \n",
      "[CV]  oob_score=True, n_estimators=336, min_samples_split=33, max_features=10, max_depth=20, bootstrap=True, precision=(train=0.971, test=0.852), recall=(train=0.798, test=0.734), total=   7.4s\n",
      "[CV] oob_score=True, n_estimators=336, min_samples_split=33, max_features=10, max_depth=20, bootstrap=True \n",
      "[CV]  oob_score=True, n_estimators=336, min_samples_split=33, max_features=10, max_depth=20, bootstrap=True, precision=(train=0.971, test=0.922), recall=(train=0.806, test=0.755), total=   7.5s\n",
      "[CV] oob_score=True, n_estimators=168, min_samples_split=7, max_features=log2, max_depth=30, bootstrap=True \n",
      "[CV]  oob_score=True, n_estimators=168, min_samples_split=7, max_features=log2, max_depth=30, bootstrap=True, precision=(train=1.000, test=0.985), recall=(train=0.878, test=0.681), total=   1.7s\n",
      "[CV] oob_score=True, n_estimators=168, min_samples_split=7, max_features=log2, max_depth=30, bootstrap=True \n",
      "[CV]  oob_score=True, n_estimators=168, min_samples_split=7, max_features=log2, max_depth=30, bootstrap=True, precision=(train=1.000, test=1.000), recall=(train=0.891, test=0.574), total=   1.8s\n",
      "[CV] oob_score=True, n_estimators=168, min_samples_split=7, max_features=log2, max_depth=30, bootstrap=True \n",
      "[CV]  oob_score=True, n_estimators=168, min_samples_split=7, max_features=log2, max_depth=30, bootstrap=True, precision=(train=1.000, test=0.957), recall=(train=0.870, test=0.702), total=   1.9s\n",
      "[CV] oob_score=True, n_estimators=168, min_samples_split=7, max_features=log2, max_depth=30, bootstrap=True \n",
      "[CV]  oob_score=True, n_estimators=168, min_samples_split=7, max_features=log2, max_depth=30, bootstrap=True, precision=(train=1.000, test=0.909), recall=(train=0.870, test=0.638), total=   1.8s\n",
      "[CV] oob_score=True, n_estimators=168, min_samples_split=7, max_features=log2, max_depth=30, bootstrap=True \n",
      "[CV]  oob_score=True, n_estimators=168, min_samples_split=7, max_features=log2, max_depth=30, bootstrap=True, precision=(train=1.000, test=0.939), recall=(train=0.864, test=0.660), total=   1.8s\n",
      "[CV] oob_score=True, n_estimators=91, min_samples_split=33, max_features=log2, max_depth=5, bootstrap=True \n",
      "[CV]  oob_score=True, n_estimators=91, min_samples_split=33, max_features=log2, max_depth=5, bootstrap=True, precision=(train=1.000, test=1.000), recall=(train=0.301, test=0.181), total=   0.6s\n",
      "[CV] oob_score=True, n_estimators=91, min_samples_split=33, max_features=log2, max_depth=5, bootstrap=True \n"
     ]
    },
    {
     "name": "stdout",
     "output_type": "stream",
     "text": [
      "[CV]  oob_score=True, n_estimators=91, min_samples_split=33, max_features=log2, max_depth=5, bootstrap=True, precision=(train=1.000, test=1.000), recall=(train=0.303, test=0.138), total=   0.7s\n",
      "[CV] oob_score=True, n_estimators=91, min_samples_split=33, max_features=log2, max_depth=5, bootstrap=True \n",
      "[CV]  oob_score=True, n_estimators=91, min_samples_split=33, max_features=log2, max_depth=5, bootstrap=True, precision=(train=1.000, test=1.000), recall=(train=0.221, test=0.170), total=   0.8s\n",
      "[CV] oob_score=True, n_estimators=91, min_samples_split=33, max_features=log2, max_depth=5, bootstrap=True \n",
      "[CV]  oob_score=True, n_estimators=91, min_samples_split=33, max_features=log2, max_depth=5, bootstrap=True, precision=(train=1.000, test=1.000), recall=(train=0.215, test=0.149), total=   0.7s\n",
      "[CV] oob_score=True, n_estimators=91, min_samples_split=33, max_features=log2, max_depth=5, bootstrap=True \n",
      "[CV]  oob_score=True, n_estimators=91, min_samples_split=33, max_features=log2, max_depth=5, bootstrap=True, precision=(train=1.000, test=0.950), recall=(train=0.287, test=0.202), total=   0.8s\n",
      "[CV] oob_score=True, n_estimators=366, min_samples_split=9, max_features=20, max_depth=30, bootstrap=True \n"
     ]
    },
    {
     "name": "stderr",
     "output_type": "stream",
     "text": [
      "C:\\Users\\91984\\AppData\\Local\\Continuum\\anaconda3\\lib\\site-packages\\sklearn\\model_selection\\_validation.py:536: FitFailedWarning: Estimator fit failed. The score on this train-test partition for these parameters will be set to nan. Details: \n",
      "ValueError: max_features must be in (0, n_features]\n",
      "\n",
      "  FitFailedWarning)\n"
     ]
    },
    {
     "name": "stdout",
     "output_type": "stream",
     "text": [
      "[CV]  oob_score=True, n_estimators=366, min_samples_split=9, max_features=20, max_depth=30, bootstrap=True, precision=(train=nan, test=nan), recall=(train=nan, test=nan), total=   0.4s\n",
      "[CV] oob_score=True, n_estimators=366, min_samples_split=9, max_features=20, max_depth=30, bootstrap=True \n"
     ]
    },
    {
     "name": "stderr",
     "output_type": "stream",
     "text": [
      "C:\\Users\\91984\\AppData\\Local\\Continuum\\anaconda3\\lib\\site-packages\\sklearn\\model_selection\\_validation.py:536: FitFailedWarning: Estimator fit failed. The score on this train-test partition for these parameters will be set to nan. Details: \n",
      "ValueError: max_features must be in (0, n_features]\n",
      "\n",
      "  FitFailedWarning)\n"
     ]
    },
    {
     "name": "stdout",
     "output_type": "stream",
     "text": [
      "[CV]  oob_score=True, n_estimators=366, min_samples_split=9, max_features=20, max_depth=30, bootstrap=True, precision=(train=nan, test=nan), recall=(train=nan, test=nan), total=   0.3s\n",
      "[CV] oob_score=True, n_estimators=366, min_samples_split=9, max_features=20, max_depth=30, bootstrap=True \n"
     ]
    },
    {
     "name": "stderr",
     "output_type": "stream",
     "text": [
      "C:\\Users\\91984\\AppData\\Local\\Continuum\\anaconda3\\lib\\site-packages\\sklearn\\model_selection\\_validation.py:536: FitFailedWarning: Estimator fit failed. The score on this train-test partition for these parameters will be set to nan. Details: \n",
      "ValueError: max_features must be in (0, n_features]\n",
      "\n",
      "  FitFailedWarning)\n"
     ]
    },
    {
     "name": "stdout",
     "output_type": "stream",
     "text": [
      "[CV]  oob_score=True, n_estimators=366, min_samples_split=9, max_features=20, max_depth=30, bootstrap=True, precision=(train=nan, test=nan), recall=(train=nan, test=nan), total=   0.3s\n",
      "[CV] oob_score=True, n_estimators=366, min_samples_split=9, max_features=20, max_depth=30, bootstrap=True \n"
     ]
    },
    {
     "name": "stderr",
     "output_type": "stream",
     "text": [
      "C:\\Users\\91984\\AppData\\Local\\Continuum\\anaconda3\\lib\\site-packages\\sklearn\\model_selection\\_validation.py:536: FitFailedWarning: Estimator fit failed. The score on this train-test partition for these parameters will be set to nan. Details: \n",
      "ValueError: max_features must be in (0, n_features]\n",
      "\n",
      "  FitFailedWarning)\n"
     ]
    },
    {
     "name": "stdout",
     "output_type": "stream",
     "text": [
      "[CV]  oob_score=True, n_estimators=366, min_samples_split=9, max_features=20, max_depth=30, bootstrap=True, precision=(train=nan, test=nan), recall=(train=nan, test=nan), total=   0.4s\n",
      "[CV] oob_score=True, n_estimators=366, min_samples_split=9, max_features=20, max_depth=30, bootstrap=True \n"
     ]
    },
    {
     "name": "stderr",
     "output_type": "stream",
     "text": [
      "C:\\Users\\91984\\AppData\\Local\\Continuum\\anaconda3\\lib\\site-packages\\sklearn\\model_selection\\_validation.py:536: FitFailedWarning: Estimator fit failed. The score on this train-test partition for these parameters will be set to nan. Details: \n",
      "ValueError: max_features must be in (0, n_features]\n",
      "\n",
      "  FitFailedWarning)\n",
      "[Parallel(n_jobs=1)]: Done 100 out of 100 | elapsed:  8.0min finished\n"
     ]
    },
    {
     "name": "stdout",
     "output_type": "stream",
     "text": [
      "[CV]  oob_score=True, n_estimators=366, min_samples_split=9, max_features=20, max_depth=30, bootstrap=True, precision=(train=nan, test=nan), recall=(train=nan, test=nan), total=   0.5s\n"
     ]
    },
    {
     "data": {
      "text/plain": [
       "RandomizedSearchCV(cv=5, error_score=nan,\n",
       "                   estimator=RandomForestClassifier(bootstrap=True,\n",
       "                                                    ccp_alpha=0.0,\n",
       "                                                    class_weight=None,\n",
       "                                                    criterion='gini',\n",
       "                                                    max_depth=None,\n",
       "                                                    max_features='auto',\n",
       "                                                    max_leaf_nodes=None,\n",
       "                                                    max_samples=None,\n",
       "                                                    min_impurity_decrease=0.0,\n",
       "                                                    min_impurity_split=None,\n",
       "                                                    min_samples_leaf=1,\n",
       "                                                    min_samples_split=2,\n",
       "                                                    min_weight_fraction_leaf=0.0,\n",
       "                                                    n_estimators=100,\n",
       "                                                    n_jobs...\n",
       "       443, 444, 445, 446, 447, 448, 449, 450, 451, 452, 453, 454, 455,\n",
       "       456, 457, 458, 459, 460, 461, 462, 463, 464, 465, 466, 467, 468,\n",
       "       469, 470, 471, 472, 473, 474, 475, 476, 477, 478, 479, 480, 481,\n",
       "       482, 483, 484, 485, 486, 487, 488, 489, 490, 491, 492, 493, 494,\n",
       "       495, 496, 497, 498, 499, 500]),\n",
       "                                        'oob_score': [True]},\n",
       "                   pre_dispatch='2*n_jobs', random_state=42, refit='recall',\n",
       "                   return_train_score=True,\n",
       "                   scoring={'precision': 'precision', 'recall': 'recall'},\n",
       "                   verbose=5)"
      ]
     },
     "execution_count": 35,
     "metadata": {},
     "output_type": "execute_result"
    }
   ],
   "source": [
    "#trains and optimizes the model\n",
    "random_search.fit(X_train, y_train)"
   ]
  },
  {
   "cell_type": "code",
   "execution_count": 36,
   "metadata": {},
   "outputs": [],
   "source": [
    "#recover the best model\n",
    "MOD = random_search.best_estimator_"
   ]
  },
  {
   "cell_type": "code",
   "execution_count": 37,
   "metadata": {},
   "outputs": [],
   "source": [
    "#MOD.fit(X_train, y_train)\n",
    "y_predict = MOD.predict(X_test)"
   ]
  },
  {
   "cell_type": "code",
   "execution_count": 38,
   "metadata": {},
   "outputs": [
    {
     "data": {
      "text/plain": [
       "0.961038961038961"
      ]
     },
     "execution_count": 38,
     "metadata": {},
     "output_type": "execute_result"
    }
   ],
   "source": [
    "accuracy_score(y_test, y_predict)"
   ]
  },
  {
   "cell_type": "markdown",
   "metadata": {},
   "source": [
    "#### Hyper Parameter tuned RF resulted in 96.1% accuracy, marginal improvement over XGBoost"
   ]
  },
  {
   "cell_type": "code",
   "execution_count": 39,
   "metadata": {},
   "outputs": [
    {
     "data": {
      "text/html": [
       "<div>\n",
       "<style scoped>\n",
       "    .dataframe tbody tr th:only-of-type {\n",
       "        vertical-align: middle;\n",
       "    }\n",
       "\n",
       "    .dataframe tbody tr th {\n",
       "        vertical-align: top;\n",
       "    }\n",
       "\n",
       "    .dataframe thead th {\n",
       "        text-align: right;\n",
       "    }\n",
       "</style>\n",
       "<table border=\"1\" class=\"dataframe\">\n",
       "  <thead>\n",
       "    <tr style=\"text-align: right;\">\n",
       "      <th>col_0</th>\n",
       "      <th>0</th>\n",
       "      <th>1</th>\n",
       "    </tr>\n",
       "    <tr>\n",
       "      <th>CHURN-FLAG</th>\n",
       "      <th></th>\n",
       "      <th></th>\n",
       "    </tr>\n",
       "  </thead>\n",
       "  <tbody>\n",
       "    <tr>\n",
       "      <th>0</th>\n",
       "      <td>1191</td>\n",
       "      <td>9</td>\n",
       "    </tr>\n",
       "    <tr>\n",
       "      <th>1</th>\n",
       "      <td>45</td>\n",
       "      <td>141</td>\n",
       "    </tr>\n",
       "  </tbody>\n",
       "</table>\n",
       "</div>"
      ],
      "text/plain": [
       "col_0          0    1\n",
       "CHURN-FLAG           \n",
       "0           1191    9\n",
       "1             45  141"
      ]
     },
     "execution_count": 39,
     "metadata": {},
     "output_type": "execute_result"
    }
   ],
   "source": [
    "pd.crosstab(y_test, y_predict)"
   ]
  },
  {
   "cell_type": "markdown",
   "metadata": {},
   "source": []
  },
  {
   "cell_type": "markdown",
   "metadata": {},
   "source": [
    "**Further scope of analysis:**   \n",
    "These classification models assume threshold of 0.5 to classify the outcome.  \n",
    "It is ok to mis classify a satisfied customer as unsatisfied customer, but not vice versa.  \n",
    "This is called recall in ML jargon.  \n",
    "To achieve good recall, we need to re assess our model by chaning classification threshold to values other than 0.5.  \n",
    "It is also noted that as recall improves, the accuracy of the model decreases.  \n",
    "We need to comeup with right threshold for which accuracy and recall are tolerable.  \n",
    "The ML trained object, say model.predict() returns the prediction for the given data with 0.5 as threshold.  \n",
    "We can use model.predict_proba() to know the probability of prediction being class_1 or class_0.  "
   ]
  },
  {
   "cell_type": "code",
   "execution_count": null,
   "metadata": {},
   "outputs": [],
   "source": []
  }
 ],
 "metadata": {
  "kernelspec": {
   "display_name": "Python 3",
   "language": "python",
   "name": "python3"
  },
  "language_info": {
   "codemirror_mode": {
    "name": "ipython",
    "version": 3
   },
   "file_extension": ".py",
   "mimetype": "text/x-python",
   "name": "python",
   "nbconvert_exporter": "python",
   "pygments_lexer": "ipython3",
   "version": "3.7.3"
  }
 },
 "nbformat": 4,
 "nbformat_minor": 2
}
